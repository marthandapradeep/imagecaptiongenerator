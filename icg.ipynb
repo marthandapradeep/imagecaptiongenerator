{
 "cells": [
  {
   "cell_type": "code",
   "execution_count": 2,
   "metadata": {},
   "outputs": [],
   "source": [
    "#@title\n",
    "import concurrent.futures\n",
    "import collections\n",
    "import dataclasses\n",
    "import hashlib\n",
    "import itertools\n",
    "import json\n",
    "import math\n",
    "import os\n",
    "import pathlib\n",
    "import random\n",
    "import re\n",
    "import string\n",
    "import time\n",
    "import urllib.request\n",
    "\n",
    "import einops\n",
    "import matplotlib.pyplot as plt\n",
    "import numpy as np\n",
    "import pandas as pd\n",
    "from PIL import Image\n",
    "import requests\n",
    "import tqdm\n",
    "\n",
    "import tensorflow as tf\n",
    "import tensorflow_hub as hub\n",
    "import tensorflow_datasets as tfds"
   ]
  },
  {
   "cell_type": "code",
   "execution_count": 3,
   "metadata": {},
   "outputs": [],
   "source": [
    "def flickr8k(path='flickr8k'):\n",
    "  path = pathlib.Path(path)\n",
    "\n",
    "  if len(list(path.rglob('*'))) < 16197:\n",
    "    tf.keras.utils.get_file(\n",
    "        origin='https://github.com/jbrownlee/Datasets/releases/download/Flickr8k/Flickr8k_Dataset.zip',\n",
    "        cache_dir='.',\n",
    "        cache_subdir=path,\n",
    "        extract=True)\n",
    "    tf.keras.utils.get_file(\n",
    "        origin='https://github.com/jbrownlee/Datasets/releases/download/Flickr8k/Flickr8k_text.zip',\n",
    "        cache_dir='.',\n",
    "        cache_subdir=path,\n",
    "        extract=True)\n",
    "    \n",
    "  captions = (path/\"Flickr8k.token.txt\").read_text().splitlines()\n",
    "  captions = (line.split('\\t') for line in captions)\n",
    "  captions = ((fname.split('#')[0], caption) for (fname, caption) in captions)\n",
    "\n",
    "  cap_dict = collections.defaultdict(list)\n",
    "  for fname, cap in captions:\n",
    "    cap_dict[fname].append(cap)\n",
    "\n",
    "  train_files = (path/'Flickr_8k.trainImages.txt').read_text().splitlines()\n",
    "  train_captions = [(str(path/'Flicker8k_Dataset'/fname), cap_dict[fname]) for fname in train_files]\n",
    "\n",
    "  test_files = (path/'Flickr_8k.testImages.txt').read_text().splitlines()\n",
    "  test_captions = [(str(path/'Flicker8k_Dataset'/fname), cap_dict[fname]) for fname in test_files]\n",
    "\n",
    "  train_ds = tf.data.experimental.from_list(train_captions)\n",
    "  test_ds = tf.data.experimental.from_list(test_captions)\n",
    "\n",
    "  return train_ds, test_ds"
   ]
  },
  {
   "cell_type": "code",
   "execution_count": 4,
   "metadata": {},
   "outputs": [],
   "source": [
    "def conceptual_captions(*, data_dir=\"conceptual_captions\", num_train, num_val):\n",
    "  def iter_index(index_path):\n",
    "    with open(index_path) as f:\n",
    "      for line in f:\n",
    "        caption, url = line.strip().split('\\t')\n",
    "        yield caption, url\n",
    "\n",
    "  def download_image_urls(data_dir, urls):\n",
    "    ex = concurrent.futures.ThreadPoolExecutor(max_workers=100)\n",
    "    def save_image(url):\n",
    "      hash = hashlib.sha1(url.encode())\n",
    "      # Name the files after the hash of the URL.\n",
    "      file_path = data_dir/f'{hash.hexdigest()}.jpeg'\n",
    "      if file_path.exists():\n",
    "        # Only download each file once.\n",
    "        return file_path\n",
    "\n",
    "      try:\n",
    "        result = requests.get(url, timeout=5)\n",
    "      except Exception:\n",
    "        file_path = None\n",
    "      else:\n",
    "        file_path.write_bytes(result.content)\n",
    "      return file_path\n",
    "    \n",
    "    result = []\n",
    "    out_paths = ex.map(save_image, urls)\n",
    "    for file_path in tqdm.tqdm(out_paths, total=len(urls)):\n",
    "      result.append(file_path)\n",
    "\n",
    "    return result\n",
    "\n",
    "  def ds_from_index_file(index_path, data_dir, count):\n",
    "    data_dir.mkdir(exist_ok=True)\n",
    "    index = list(itertools.islice(iter_index(index_path), count))\n",
    "    captions = [caption for caption, url in index]\n",
    "    urls = [url for caption, url in index]\n",
    "\n",
    "    paths = download_image_urls(data_dir, urls)\n",
    "\n",
    "    new_captions = []\n",
    "    new_paths = []\n",
    "    for cap, path in zip(captions, paths):\n",
    "      if path is None:\n",
    "        # Download failed, so skip this pair.\n",
    "        continue\n",
    "      new_captions.append(cap)\n",
    "      new_paths.append(path)\n",
    "    \n",
    "    new_paths = [str(p) for p in new_paths]\n",
    "\n",
    "    ds = tf.data.Dataset.from_tensor_slices((new_paths, new_captions))\n",
    "    ds = ds.map(lambda path,cap: (path, cap[tf.newaxis])) # 1 caption per image\n",
    "    return ds\n",
    "\n",
    "  data_dir = pathlib.Path(data_dir)\n",
    "  train_index_path = tf.keras.utils.get_file(\n",
    "    origin='https://storage.googleapis.com/gcc-data/Train/GCC-training.tsv',\n",
    "    cache_subdir=data_dir,\n",
    "    cache_dir='.')\n",
    "  \n",
    "  val_index_path = tf.keras.utils.get_file(\n",
    "    origin='https://storage.googleapis.com/gcc-data/Validation/GCC-1.1.0-Validation.tsv',\n",
    "    cache_subdir=data_dir,\n",
    "    cache_dir='.')\n",
    "  \n",
    "  train_raw = ds_from_index_file(train_index_path, data_dir=data_dir/'train', count=num_train)\n",
    "  test_raw = ds_from_index_file(val_index_path, data_dir=data_dir/'val', count=num_val)\n",
    "\n",
    "  return train_raw, test_raw"
   ]
  },
  {
   "cell_type": "code",
   "execution_count": 5,
   "metadata": {},
   "outputs": [
    {
     "name": "stdout",
     "output_type": "stream",
     "text": [
      "Downloading data from https://github.com/jbrownlee/Datasets/releases/download/Flickr8k/Flickr8k_Dataset.zip\n",
      "1115419746/1115419746 [==============================] - 240s 0us/step\n",
      "Downloading data from https://github.com/jbrownlee/Datasets/releases/download/Flickr8k/Flickr8k_text.zip\n",
      "2340801/2340801 [==============================] - 1s 1us/step\n"
     ]
    }
   ],
   "source": [
    "choose = 'flickr8k'\n",
    "\n",
    "if choose == 'flickr8k':\n",
    "  train_raw, test_raw = flickr8k()\n",
    "else:\n",
    "  train_raw, test_raw = conceptual_captions(num_train=10000, num_val=5000)"
   ]
  },
  {
   "cell_type": "code",
   "execution_count": 6,
   "metadata": {},
   "outputs": [
    {
     "data": {
      "text/plain": [
       "(TensorSpec(shape=(), dtype=tf.string, name=None),\n",
       " TensorSpec(shape=(5,), dtype=tf.string, name=None))"
      ]
     },
     "execution_count": 6,
     "metadata": {},
     "output_type": "execute_result"
    }
   ],
   "source": [
    "train_raw.element_spec"
   ]
  },
  {
   "cell_type": "code",
   "execution_count": 7,
   "metadata": {},
   "outputs": [
    {
     "name": "stdout",
     "output_type": "stream",
     "text": [
      "tf.Tensor(b'flickr8k\\\\Flicker8k_Dataset\\\\2513260012_03d33305cf.jpg', shape=(), dtype=string)\n",
      "tf.Tensor(\n",
      "[b'A black dog is running after a white dog in the snow .'\n",
      " b'Black dog chasing brown dog through snow'\n",
      " b'Two dogs chase each other across the snowy ground .'\n",
      " b'Two dogs play together in the snow .'\n",
      " b'Two dogs running through a low lying body of water .'], shape=(5,), dtype=string)\n"
     ]
    }
   ],
   "source": [
    "for ex_path, ex_captions in train_raw.take(1):\n",
    "  print(ex_path)\n",
    "  print(ex_captions)"
   ]
  },
  {
   "cell_type": "code",
   "execution_count": 8,
   "metadata": {},
   "outputs": [],
   "source": [
    "IMAGE_SHAPE=(224, 224, 3)\n",
    "mobilenet = tf.keras.applications.MobileNetV3Small(\n",
    "    input_shape=IMAGE_SHAPE,\n",
    "    include_top=False,\n",
    "    include_preprocessing=True)\n",
    "mobilenet.trainable=False"
   ]
  },
  {
   "cell_type": "code",
   "execution_count": 9,
   "metadata": {},
   "outputs": [],
   "source": [
    "def load_image(image_path):\n",
    "    img = tf.io.read_file(image_path)\n",
    "    img = tf.io.decode_jpeg(img, channels=3)\n",
    "    img = tf.image.resize(img, IMAGE_SHAPE[:-1])\n",
    "    return img"
   ]
  },
  {
   "cell_type": "code",
   "execution_count": 10,
   "metadata": {},
   "outputs": [
    {
     "name": "stdout",
     "output_type": "stream",
     "text": [
      "(1, 224, 224, 3)\n",
      "(1, 7, 7, 576)\n"
     ]
    }
   ],
   "source": [
    "test_img_batch = load_image(ex_path)[tf.newaxis, :]\n",
    "\n",
    "print(test_img_batch.shape)\n",
    "print(mobilenet(test_img_batch).shape)"
   ]
  },
  {
   "cell_type": "code",
   "execution_count": 11,
   "metadata": {},
   "outputs": [],
   "source": [
    "def standardize(s):\n",
    "  s = tf.strings.lower(s)\n",
    "  s = tf.strings.regex_replace(s, f'[{re.escape(string.punctuation)}]', '')\n",
    "  s = tf.strings.join(['[START]', s, '[END]'], separator=' ')\n",
    "  return s"
   ]
  },
  {
   "cell_type": "code",
   "execution_count": 12,
   "metadata": {},
   "outputs": [],
   "source": [
    "# Use the top 5000 words for a vocabulary.\n",
    "vocabulary_size = 5000\n",
    "tokenizer = tf.keras.layers.TextVectorization(\n",
    "    max_tokens=vocabulary_size,\n",
    "    standardize=standardize,\n",
    "    ragged=True)\n",
    "# Learn the vocabulary from the caption data."
   ]
  },
  {
   "cell_type": "code",
   "execution_count": 13,
   "metadata": {},
   "outputs": [],
   "source": [
    "tokenizer.adapt(train_raw.map(lambda fp,txt: txt).unbatch().batch(1024))"
   ]
  },
  {
   "cell_type": "code",
   "execution_count": 14,
   "metadata": {},
   "outputs": [
    {
     "data": {
      "text/plain": [
       "['', '[UNK]', 'a', '[START]', '[END]', 'in', 'the', 'on', 'is', 'and']"
      ]
     },
     "execution_count": 14,
     "metadata": {},
     "output_type": "execute_result"
    }
   ],
   "source": [
    "tokenizer.get_vocabulary()[:10]"
   ]
  },
  {
   "cell_type": "code",
   "execution_count": 15,
   "metadata": {},
   "outputs": [
    {
     "data": {
      "text/plain": [
       "<tf.RaggedTensor [[3, 2, 655, 5, 2, 97, 4], [3, 2, 1937, 10, 4]]>"
      ]
     },
     "execution_count": 15,
     "metadata": {},
     "output_type": "execute_result"
    }
   ],
   "source": [
    "t = tokenizer([['a cat in a hat'], ['a robot dog']])\n",
    "t"
   ]
  },
  {
   "cell_type": "code",
   "execution_count": 16,
   "metadata": {},
   "outputs": [],
   "source": [
    "    # Create mappings for words to indices and indices to words.\n",
    "word_to_index = tf.keras.layers.StringLookup(\n",
    "    mask_token=\"\",\n",
    "    vocabulary=tokenizer.get_vocabulary())\n",
    "index_to_word = tf.keras.layers.StringLookup(\n",
    "    mask_token=\"\",\n",
    "    vocabulary=tokenizer.get_vocabulary(),\n",
    "    invert=True)"
   ]
  },
  {
   "cell_type": "code",
   "execution_count": 17,
   "metadata": {},
   "outputs": [
    {
     "data": {
      "text/plain": [
       "[[b'[START]', b'a', b'cat', b'in', b'a', b'hat', b'[END]'],\n",
       " [b'[START]', b'a', b'robot', b'dog', b'[END]']]"
      ]
     },
     "execution_count": 17,
     "metadata": {},
     "output_type": "execute_result"
    }
   ],
   "source": [
    "w = index_to_word(t)\n",
    "w.to_list()"
   ]
  },
  {
   "cell_type": "code",
   "execution_count": 18,
   "metadata": {},
   "outputs": [
    {
     "data": {
      "text/plain": [
       "array([b'[START] a cat in a hat [END]', b'[START] a robot dog [END]'],\n",
       "      dtype=object)"
      ]
     },
     "execution_count": 18,
     "metadata": {},
     "output_type": "execute_result"
    }
   ],
   "source": [
    "tf.strings.reduce_join(w, separator=' ', axis=-1).numpy()"
   ]
  },
  {
   "cell_type": "code",
   "execution_count": 19,
   "metadata": {},
   "outputs": [],
   "source": [
    "def match_shapes(images, captions):\n",
    "  caption_shape = einops.parse_shape(captions, 'b c')\n",
    "  captions = einops.rearrange(captions, 'b c -> (b c)')\n",
    "  images = einops.repeat(\n",
    "      images, 'b ... -> (b c) ...',\n",
    "      c = caption_shape['c'])\n",
    "  return images, captions"
   ]
  },
  {
   "cell_type": "code",
   "execution_count": 20,
   "metadata": {},
   "outputs": [
    {
     "name": "stdout",
     "output_type": "stream",
     "text": [
      "image paths: (32,)\n",
      "captions: (32, 5)\n",
      "\n",
      "image_paths: (160,)\n",
      "captions: (160,)\n"
     ]
    }
   ],
   "source": [
    "for ex_paths, ex_captions in train_raw.batch(32).take(1):\n",
    "  break\n",
    "\n",
    "print('image paths:', ex_paths.shape)\n",
    "print('captions:', ex_captions.shape)\n",
    "print()\n",
    "\n",
    "ex_paths, ex_captions = match_shapes(images=ex_paths, captions=ex_captions)\n",
    "\n",
    "print('image_paths:', ex_paths.shape)\n",
    "print('captions:', ex_captions.shape)\n"
   ]
  },
  {
   "cell_type": "code",
   "execution_count": 21,
   "metadata": {},
   "outputs": [],
   "source": [
    "def prepare_txt(imgs, txts):\n",
    "  tokens = tokenizer(txts)\n",
    "\n",
    "  input_tokens = tokens[..., :-1]\n",
    "  label_tokens = tokens[..., 1:]\n",
    "  return (imgs, input_tokens), label_tokens"
   ]
  },
  {
   "cell_type": "code",
   "execution_count": 22,
   "metadata": {},
   "outputs": [],
   "source": [
    "def prepare_dataset(ds, tokenizer, batch_size=32, shuffle_buffer=1000):\n",
    "  # Load the images and make batches.\n",
    "  ds = (ds\n",
    "        .shuffle(10000)\n",
    "        .map(lambda path, caption: (load_image(path), caption))\n",
    "        .apply(tf.data.experimental.ignore_errors())\n",
    "        .batch(batch_size))\n",
    "\n",
    "  def to_tensor(inputs, labels):\n",
    "    (images, in_tok), out_tok = inputs, labels\n",
    "    return (images, in_tok.to_tensor()), out_tok.to_tensor()\n",
    "\n",
    "  return (ds\n",
    "          .map(match_shapes, tf.data.AUTOTUNE)\n",
    "          .unbatch()\n",
    "          .shuffle(shuffle_buffer)\n",
    "          .batch(batch_size)\n",
    "          .map(prepare_txt, tf.data.AUTOTUNE)\n",
    "          .map(to_tensor, tf.data.AUTOTUNE)\n",
    "          )"
   ]
  },
  {
   "cell_type": "code",
   "execution_count": 23,
   "metadata": {},
   "outputs": [
    {
     "name": "stdout",
     "output_type": "stream",
     "text": [
      "WARNING:tensorflow:From C:\\Users\\rspra\\AppData\\Local\\Temp\\ipykernel_10460\\1004139779.py:6: ignore_errors (from tensorflow.python.data.experimental.ops.error_ops) is deprecated and will be removed in a future version.\n",
      "Instructions for updating:\n",
      "Use `tf.data.Dataset.ignore_errors` instead.\n"
     ]
    },
    {
     "data": {
      "text/plain": [
       "((TensorSpec(shape=(None, 224, 224, 3), dtype=tf.float32, name=None),\n",
       "  TensorSpec(shape=(None, None), dtype=tf.int64, name=None)),\n",
       " TensorSpec(shape=(None, None), dtype=tf.int64, name=None))"
      ]
     },
     "execution_count": 23,
     "metadata": {},
     "output_type": "execute_result"
    }
   ],
   "source": [
    "train_ds = prepare_dataset(train_raw, tokenizer)\n",
    "train_ds.element_spec"
   ]
  },
  {
   "cell_type": "code",
   "execution_count": 24,
   "metadata": {},
   "outputs": [
    {
     "data": {
      "text/plain": [
       "((TensorSpec(shape=(None, 224, 224, 3), dtype=tf.float32, name=None),\n",
       "  TensorSpec(shape=(None, None), dtype=tf.int64, name=None)),\n",
       " TensorSpec(shape=(None, None), dtype=tf.int64, name=None))"
      ]
     },
     "execution_count": 24,
     "metadata": {},
     "output_type": "execute_result"
    }
   ],
   "source": [
    "test_ds = prepare_dataset(test_raw, tokenizer)\n",
    "test_ds.element_spec"
   ]
  },
  {
   "cell_type": "code",
   "execution_count": 25,
   "metadata": {},
   "outputs": [],
   "source": [
    "def save_dataset(ds, save_path, image_model, tokenizer, shards=10, batch_size=32):\n",
    "  # Load the images and make batches.\n",
    "  ds = (ds\n",
    "        .map(lambda path, caption: (load_image(path), caption))\n",
    "        .apply(tf.data.experimental.ignore_errors())\n",
    "        .batch(batch_size))\n",
    "\n",
    "  # Run the feature extractor on each batch\n",
    "  # Don't do this in a .map, because tf.data runs on the CPU. \n",
    "  def gen():\n",
    "    for (images, captions) in tqdm.tqdm(ds): \n",
    "      feature_maps = image_model(images)\n",
    "\n",
    "      feature_maps, captions = match_shapes(feature_maps, captions)\n",
    "      yield feature_maps, captions\n",
    "\n",
    "  # Wrap the generator in a new tf.data.Dataset.\n",
    "  new_ds = tf.data.Dataset.from_generator(\n",
    "      gen,\n",
    "      output_signature=(\n",
    "          tf.TensorSpec(shape=image_model.output_shape),\n",
    "          tf.TensorSpec(shape=(None,), dtype=tf.string)))\n",
    "\n",
    "  # Apply the tokenization \n",
    "  new_ds = (new_ds\n",
    "            .map(prepare_txt, tf.data.AUTOTUNE)\n",
    "            .unbatch()\n",
    "            .shuffle(1000))\n",
    "\n",
    "  # Save the dataset into shard files.\n",
    "  def shard_func(i, item):\n",
    "    return i % shards\n",
    "  new_ds.enumerate().save(save_path, shard_func=shard_func)\n",
    "\n",
    "def load_dataset(save_path, batch_size=32, shuffle=1000, cycle_length=2):\n",
    "  def custom_reader_func(datasets):\n",
    "    datasets = datasets.shuffle(1000)\n",
    "    return datasets.interleave(lambda x: x, cycle_length=cycle_length)\n",
    "  \n",
    "  ds = tf.data.Dataset.load(save_path, reader_func=custom_reader_func)\n",
    "\n",
    "  def drop_index(i, x):\n",
    "    return x\n",
    "\n",
    "  ds = (ds\n",
    "        .map(drop_index, tf.data.AUTOTUNE)\n",
    "        .shuffle(shuffle)\n",
    "        .padded_batch(batch_size)\n",
    "        .prefetch(tf.data.AUTOTUNE))\n",
    "  return ds"
   ]
  },
  {
   "cell_type": "code",
   "execution_count": 26,
   "metadata": {},
   "outputs": [
    {
     "name": "stderr",
     "output_type": "stream",
     "text": [
      "188it [02:50,  1.10it/s]\n",
      "32it [00:29,  1.07it/s]\n"
     ]
    }
   ],
   "source": [
    "save_dataset(train_raw, 'train_cache', mobilenet, tokenizer)\n",
    "save_dataset(test_raw, 'test_cache', mobilenet, tokenizer)"
   ]
  },
  {
   "cell_type": "code",
   "execution_count": 27,
   "metadata": {},
   "outputs": [],
   "source": [
    "train_ds = load_dataset('train_cache')\n",
    "test_ds = load_dataset('test_cache')"
   ]
  },
  {
   "cell_type": "code",
   "execution_count": 28,
   "metadata": {},
   "outputs": [
    {
     "data": {
      "text/plain": [
       "((TensorSpec(shape=(None, 7, 7, 576), dtype=tf.float32, name=None),\n",
       "  TensorSpec(shape=(None, None), dtype=tf.int64, name=None)),\n",
       " TensorSpec(shape=(None, None), dtype=tf.int64, name=None))"
      ]
     },
     "execution_count": 28,
     "metadata": {},
     "output_type": "execute_result"
    }
   ],
   "source": [
    "train_ds.element_spec"
   ]
  },
  {
   "cell_type": "code",
   "execution_count": 29,
   "metadata": {},
   "outputs": [
    {
     "name": "stdout",
     "output_type": "stream",
     "text": [
      "(32, 7, 7, 576)\n",
      "(32, 16)\n",
      "(32, 16)\n"
     ]
    }
   ],
   "source": [
    "for (inputs, ex_labels) in train_ds.take(1):\n",
    "  (ex_img, ex_in_tok) = inputs\n",
    "\n",
    "print(ex_img.shape)\n",
    "print(ex_in_tok.shape)\n",
    "print(ex_labels.shape)"
   ]
  },
  {
   "cell_type": "code",
   "execution_count": 30,
   "metadata": {},
   "outputs": [],
   "source": [
    "class SeqEmbedding(tf.keras.layers.Layer):\n",
    "  def __init__(self, vocab_size, max_length, depth):\n",
    "    super().__init__()\n",
    "    self.pos_embedding = tf.keras.layers.Embedding(input_dim=max_length, output_dim=depth)\n",
    "\n",
    "    self.token_embedding = tf.keras.layers.Embedding(\n",
    "        input_dim=vocab_size,\n",
    "        output_dim=depth,\n",
    "        mask_zero=True)\n",
    "    \n",
    "    self.add = tf.keras.layers.Add()\n",
    "\n",
    "  def call(self, seq):\n",
    "    seq = self.token_embedding(seq) # (batch, seq, depth)\n",
    "\n",
    "    x = tf.range(tf.shape(seq)[1])  # (seq)\n",
    "    x = x[tf.newaxis, :]  # (1, seq)\n",
    "    x = self.pos_embedding(x)  # (1, seq, depth)\n",
    "\n",
    "    return self.add([seq,x])"
   ]
  },
  {
   "cell_type": "code",
   "execution_count": 31,
   "metadata": {},
   "outputs": [],
   "source": [
    "class CausalSelfAttention(tf.keras.layers.Layer):\n",
    "  def __init__(self, **kwargs):\n",
    "    super().__init__()\n",
    "    self.mha = tf.keras.layers.MultiHeadAttention(**kwargs)\n",
    "    # Use Add instead of + so the keras mask propagates through.\n",
    "    self.add = tf.keras.layers.Add() \n",
    "    self.layernorm = tf.keras.layers.LayerNormalization()\n",
    "  \n",
    "  def call(self, x):\n",
    "    attn = self.mha(query=x, value=x,\n",
    "                    use_causal_mask=True)\n",
    "    x = self.add([x, attn])\n",
    "    return self.layernorm(x)\n"
   ]
  },
  {
   "cell_type": "code",
   "execution_count": 32,
   "metadata": {},
   "outputs": [],
   "source": [
    "class CrossAttention(tf.keras.layers.Layer):\n",
    "  def __init__(self,**kwargs):\n",
    "    super().__init__()\n",
    "    self.mha = tf.keras.layers.MultiHeadAttention(**kwargs)\n",
    "    self.add = tf.keras.layers.Add() \n",
    "    self.layernorm = tf.keras.layers.LayerNormalization()\n",
    "  \n",
    "  def call(self, x, y, **kwargs):\n",
    "    attn, attention_scores = self.mha(\n",
    "             query=x, value=y,\n",
    "             return_attention_scores=True)\n",
    "    \n",
    "    self.last_attention_scores = attention_scores\n",
    "\n",
    "    x = self.add([x, attn])\n",
    "    return self.layernorm(x)"
   ]
  },
  {
   "cell_type": "code",
   "execution_count": 33,
   "metadata": {},
   "outputs": [],
   "source": [
    "class FeedForward(tf.keras.layers.Layer):\n",
    "  def __init__(self, units, dropout_rate=0.1):\n",
    "    super().__init__()\n",
    "    self.seq = tf.keras.Sequential([\n",
    "        tf.keras.layers.Dense(units=2*units, activation='relu'),\n",
    "        tf.keras.layers.Dense(units=units),\n",
    "        tf.keras.layers.Dropout(rate=dropout_rate),\n",
    "    ])\n",
    "\n",
    "    self.layernorm = tf.keras.layers.LayerNormalization()\n",
    "  \n",
    "  def call(self, x):\n",
    "    x = x + self.seq(x)\n",
    "    return self.layernorm(x)\n"
   ]
  },
  {
   "cell_type": "code",
   "execution_count": 34,
   "metadata": {},
   "outputs": [],
   "source": [
    "class DecoderLayer(tf.keras.layers.Layer):\n",
    "  def __init__(self, units, num_heads=1, dropout_rate=0.1):\n",
    "    super().__init__()\n",
    "    \n",
    "    self.self_attention = CausalSelfAttention(num_heads=num_heads,\n",
    "                                              key_dim=units,\n",
    "                                              dropout=dropout_rate)\n",
    "    self.cross_attention = CrossAttention(num_heads=num_heads,\n",
    "                                          key_dim=units,\n",
    "                                          dropout=dropout_rate)\n",
    "    self.ff = FeedForward(units=units, dropout_rate=dropout_rate)\n",
    "      \n",
    "\n",
    "  def call(self, inputs, training=False):\n",
    "    in_seq, out_seq = inputs\n",
    "\n",
    "    # Text input\n",
    "    out_seq = self.self_attention(out_seq)\n",
    "\n",
    "    out_seq = self.cross_attention(out_seq, in_seq)\n",
    "    \n",
    "    self.last_attention_scores = self.cross_attention.last_attention_scores\n",
    "\n",
    "    out_seq = self.ff(out_seq)\n",
    "\n",
    "    return out_seq"
   ]
  },
  {
   "cell_type": "code",
   "execution_count": 35,
   "metadata": {},
   "outputs": [],
   "source": [
    "#@title\n",
    "class TokenOutput(tf.keras.layers.Layer):\n",
    "  def __init__(self, tokenizer, banned_tokens=(' ','[UNK]','[START]'),**kwargs):\n",
    "    super().__init__()\n",
    "    \n",
    "    self.dense = tf.keras.layers.Dense(\n",
    "        units=tokenizer.vocabulary_size(), **kwargs)\n",
    "    self.tokenizer = tokenizer\n",
    "    self.banned_tokens = banned_tokens\n",
    "\n",
    "    self.bias = None\n",
    "\n",
    "  def adapt(self, ds):\n",
    "    counts = collections.Counter()\n",
    "    vocab_dict = {name: id \n",
    "                  for id, name in enumerate(self.tokenizer.get_vocabulary())}\n",
    "\n",
    "    for tokens in tqdm.tqdm(ds):\n",
    "      counts.update(tokens.numpy().flatten())\n",
    "\n",
    "    counts_arr = np.zeros(shape=(self.tokenizer.vocabulary_size(),))\n",
    "    counts_arr[np.array(list(counts.keys()), dtype=np.int32)] = list(counts.values())\n",
    "\n",
    "    counts_arr = counts_arr[:]\n",
    "    for token in self.banned_tokens:\n",
    "      counts_arr[vocab_dict[token]] = 0\n",
    "\n",
    "    total = counts_arr.sum()\n",
    "    p = counts_arr/total\n",
    "    p[counts_arr==0] = 1.0\n",
    "    log_p = np.log(p)  # log(1) == 0\n",
    "\n",
    "    entropy = -(log_p*p).sum()\n",
    "\n",
    "    print()\n",
    "    print(f\"Uniform entropy: {np.log(self.tokenizer.vocabulary_size()):0.2f}\")\n",
    "    print(f\"Marginal entropy: {entropy:0.2f}\")\n",
    "\n",
    "    self.bias = log_p\n",
    "    self.bias[counts_arr==0] = -1e9\n",
    "\n",
    "  def call(self, x):\n",
    "    x = self.dense(x)\n",
    "    # TODO(b/250038731): Fix this.\n",
    "    # An Add layer doesn't work because of the different shapes.\n",
    "    # This clears the mask, that's okay because it prevents keras from rescaling\n",
    "    # the losses.\n",
    "    return x + self.bias\n"
   ]
  },
  {
   "cell_type": "code",
   "execution_count": 36,
   "metadata": {},
   "outputs": [
    {
     "name": "stderr",
     "output_type": "stream",
     "text": [
      "100%|██████████| 938/938 [00:14<00:00, 64.90it/s]"
     ]
    },
    {
     "name": "stdout",
     "output_type": "stream",
     "text": [
      "\n",
      "Uniform entropy: 8.52\n",
      "Marginal entropy: 5.29\n"
     ]
    },
    {
     "name": "stderr",
     "output_type": "stream",
     "text": [
      "\n"
     ]
    }
   ],
   "source": [
    "output_layer = TokenOutput(tokenizer, banned_tokens=('','[UNK]','[START]'))\n",
    "# This might run a little faster if the dataset didn't also have to load the image data.\n",
    "output_layer.adapt(train_ds.map(lambda inputs, labels: labels))"
   ]
  },
  {
   "cell_type": "code",
   "execution_count": 37,
   "metadata": {},
   "outputs": [],
   "source": [
    "class Captioner(tf.keras.Model):\n",
    "  @classmethod\n",
    "  def add_method(cls, fun):\n",
    "    setattr(cls, fun.__name__, fun)\n",
    "    return fun\n",
    "\n",
    "  def __init__(self, tokenizer, feature_extractor, output_layer, num_layers=1,\n",
    "               units=256, max_length=50, num_heads=1, dropout_rate=0.1):\n",
    "    super().__init__()\n",
    "    self.feature_extractor = feature_extractor\n",
    "    self.tokenizer = tokenizer\n",
    "    self.word_to_index = tf.keras.layers.StringLookup(\n",
    "        mask_token=\"\",\n",
    "        vocabulary=tokenizer.get_vocabulary())\n",
    "    self.index_to_word = tf.keras.layers.StringLookup(\n",
    "        mask_token=\"\",\n",
    "        vocabulary=tokenizer.get_vocabulary(),\n",
    "        invert=True) \n",
    "\n",
    "    self.seq_embedding = SeqEmbedding(\n",
    "        vocab_size=tokenizer.vocabulary_size(),\n",
    "        depth=units,\n",
    "        max_length=max_length)\n",
    "\n",
    "    self.decoder_layers = [\n",
    "        DecoderLayer(units, num_heads=num_heads, dropout_rate=dropout_rate)\n",
    "        for n in range(num_layers)]\n",
    "\n",
    "    self.output_layer = output_layer"
   ]
  },
  {
   "cell_type": "code",
   "execution_count": 38,
   "metadata": {},
   "outputs": [],
   "source": [
    "  @Captioner.add_method\n",
    "  def call(self, inputs):\n",
    "    image, txt = inputs\n",
    "\n",
    "    if image.shape[-1] == 3:\n",
    "      # Apply the feature-extractor, if you get an RGB image.\n",
    "      image = self.feature_extractor(image)\n",
    "    \n",
    "    # Flatten the feature map\n",
    "    image = einops.rearrange(image, 'b h w c -> b (h w) c')\n",
    "\n",
    "\n",
    "    if txt.dtype == tf.string:\n",
    "      # Apply the tokenizer if you get string inputs.\n",
    "      txt = tokenizer(txt)\n",
    "\n",
    "    txt = self.seq_embedding(txt)\n",
    "\n",
    "    # Look at the image\n",
    "    for dec_layer in self.decoder_layers:\n",
    "      txt = dec_layer(inputs=(image, txt))\n",
    "      \n",
    "    txt = self.output_layer(txt)\n",
    "\n",
    "    return txt"
   ]
  },
  {
   "cell_type": "code",
   "execution_count": 39,
   "metadata": {},
   "outputs": [],
   "source": [
    "model = Captioner(tokenizer, feature_extractor=mobilenet, output_layer=output_layer,\n",
    "                  units=256, dropout_rate=0.5, num_layers=2, num_heads=2)"
   ]
  },
  {
   "cell_type": "code",
   "execution_count": 40,
   "metadata": {},
   "outputs": [],
   "source": [
    "image_url = 'https://tensorflow.org/images/surf.jpg'\n",
    "image_path = tf.keras.utils.get_file('surf.jpg', origin=image_url)\n",
    "image = load_image(image_path)"
   ]
  },
  {
   "cell_type": "code",
   "execution_count": 41,
   "metadata": {},
   "outputs": [],
   "source": [
    "@Captioner.add_method\n",
    "def simple_gen(self, image, temperature=1):\n",
    "  initial = self.word_to_index([['[START]']]) # (batch, sequence)\n",
    "  img_features = self.feature_extractor(image[tf.newaxis, ...])\n",
    "\n",
    "  tokens = initial # (batch, sequence)\n",
    "  for n in range(50):\n",
    "    preds = self((img_features, tokens)).numpy()  # (batch, sequence, vocab)\n",
    "    preds = preds[:,-1, :]  #(batch, vocab)\n",
    "    if temperature==0:\n",
    "        next = tf.argmax(preds, axis=-1)[:, tf.newaxis]  # (batch, 1)\n",
    "    else:\n",
    "        next = tf.random.categorical(preds/temperature, num_samples=1)  # (batch, 1)\n",
    "    tokens = tf.concat([tokens, next], axis=1) # (batch, sequence) \n",
    "\n",
    "    if next[0] == self.word_to_index('[END]'):\n",
    "      break\n",
    "  words = index_to_word(tokens[0, 1:-1])\n",
    "  result = tf.strings.reduce_join(words, axis=-1, separator=' ')\n",
    "  return result.numpy().decode()"
   ]
  },
  {
   "cell_type": "code",
   "execution_count": 42,
   "metadata": {},
   "outputs": [
    {
     "name": "stdout",
     "output_type": "stream",
     "text": [
      "\n",
      "\n",
      "dog a from the in and in a water small a stop people neighborhood a in dancing boy red down a snow wears\n"
     ]
    }
   ],
   "source": [
    "for t in (0.0, 0.5, 1.0):\n",
    "  result = model.simple_gen(image, temperature=t)\n",
    "  print(result)"
   ]
  },
  {
   "cell_type": "code",
   "execution_count": 43,
   "metadata": {},
   "outputs": [],
   "source": [
    "def masked_loss(labels, preds):  \n",
    "  loss = tf.nn.sparse_softmax_cross_entropy_with_logits(labels, preds)\n",
    "\n",
    "  mask = (labels != 0) & (loss < 1e8) \n",
    "  mask = tf.cast(mask, loss.dtype)\n",
    "\n",
    "  loss = loss*mask\n",
    "  loss = tf.reduce_sum(loss)/tf.reduce_sum(mask)\n",
    "  return loss\n",
    "\n",
    "def masked_acc(labels, preds):\n",
    "  mask = tf.cast(labels!=0, tf.float32)\n",
    "  preds = tf.argmax(preds, axis=-1)\n",
    "  labels = tf.cast(labels, tf.int64)\n",
    "  match = tf.cast(preds == labels, mask.dtype)\n",
    "  acc = tf.reduce_sum(match*mask)/tf.reduce_sum(mask)\n",
    "  return acc"
   ]
  },
  {
   "cell_type": "code",
   "execution_count": 44,
   "metadata": {},
   "outputs": [],
   "source": [
    "class GenerateText(tf.keras.callbacks.Callback):\n",
    "  def __init__(self):\n",
    "    image_url = 'https://tensorflow.org/images/surf.jpg'\n",
    "    image_path = tf.keras.utils.get_file('surf.jpg', origin=image_url)\n",
    "    self.image = load_image(image_path)\n",
    "\n",
    "  def on_epoch_end(self, epochs=None, logs=None):\n",
    "    print()\n",
    "    print()\n",
    "    for t in (0.0, 0.5, 1.0):\n",
    "      result = self.model.simple_gen(self.image, temperature=t)\n",
    "      print(result)\n",
    "    print()\n"
   ]
  },
  {
   "cell_type": "code",
   "execution_count": 45,
   "metadata": {},
   "outputs": [
    {
     "name": "stdout",
     "output_type": "stream",
     "text": [
      "\n",
      "\n",
      "\n",
      "\n",
      "\n",
      "\n"
     ]
    }
   ],
   "source": [
    "g = GenerateText()\n",
    "g.model = model\n",
    "g.on_epoch_end(0)"
   ]
  },
  {
   "cell_type": "code",
   "execution_count": 46,
   "metadata": {},
   "outputs": [],
   "source": [
    "callbacks = [\n",
    "    GenerateText(),\n",
    "    tf.keras.callbacks.EarlyStopping(\n",
    "        patience=5, restore_best_weights=True)]"
   ]
  },
  {
   "cell_type": "code",
   "execution_count": 47,
   "metadata": {},
   "outputs": [],
   "source": [
    "model.compile(optimizer=tf.keras.optimizers.Adam(learning_rate=1e-4),\n",
    "           loss=masked_loss,\n",
    "           metrics=[masked_acc])"
   ]
  },
  {
   "cell_type": "code",
   "execution_count": 48,
   "metadata": {},
   "outputs": [
    {
     "name": "stdout",
     "output_type": "stream",
     "text": [
      "Epoch 1/100\n",
      "100/100 [==============================] - ETA: 0s - loss: 4.9898 - masked_acc: 0.2003\n",
      "\n",
      "a man in a man in a man in a\n",
      "a man young in a is boy water\n",
      "dog woman are brown ice the wakeboarding out over a playing football\n",
      "\n",
      "100/100 [==============================] - 66s 596ms/step - loss: 4.9898 - masked_acc: 0.2003 - val_loss: 4.6774 - val_masked_acc: 0.2357\n",
      "Epoch 2/100\n",
      "100/100 [==============================] - ETA: 0s - loss: 4.6078 - masked_acc: 0.2528\n",
      "\n",
      "a man in a red is in the water\n",
      "a young in a girl is running\n",
      "two four drops are are snowy wet the playing\n",
      "\n",
      "100/100 [==============================] - 59s 587ms/step - loss: 4.6078 - masked_acc: 0.2528 - val_loss: 4.3598 - val_masked_acc: 0.2701\n",
      "Epoch 3/100\n",
      "100/100 [==============================] - ETA: 0s - loss: 4.3832 - masked_acc: 0.2780\n",
      "\n",
      "a man in a red water\n",
      "a young boy is standing on a water\n",
      "a outfits runs as children by water\n",
      "\n",
      "100/100 [==============================] - 51s 512ms/step - loss: 4.3832 - masked_acc: 0.2780 - val_loss: 4.1823 - val_masked_acc: 0.2964\n",
      "Epoch 4/100\n",
      "100/100 [==============================] - ETA: 0s - loss: 4.2829 - masked_acc: 0.2906\n",
      "\n",
      "a man in a red shirt is running in the water\n",
      "a man in a snow\n",
      "a young black with water on a edge jumps band\n",
      "\n",
      "100/100 [==============================] - 52s 521ms/step - loss: 4.2829 - masked_acc: 0.2906 - val_loss: 4.0314 - val_masked_acc: 0.3065\n",
      "Epoch 5/100\n",
      "100/100 [==============================] - ETA: 0s - loss: 4.1136 - masked_acc: 0.3062\n",
      "\n",
      "a man in a red shirt is in the water\n",
      "a person in a red is in the background\n",
      "two motorcyclists on water mouth\n",
      "\n",
      "100/100 [==============================] - 52s 517ms/step - loss: 4.1136 - masked_acc: 0.3062 - val_loss: 4.0105 - val_masked_acc: 0.3091\n",
      "Epoch 6/100\n",
      "100/100 [==============================] - ETA: 0s - loss: 4.0605 - masked_acc: 0.3125\n",
      "\n",
      "a man is in a water\n",
      "a man in a a child in the water\n",
      "a person is jumping on a yellow dirt swing into\n",
      "\n",
      "100/100 [==============================] - 52s 525ms/step - loss: 4.0605 - masked_acc: 0.3125 - val_loss: 3.8330 - val_masked_acc: 0.3249\n",
      "Epoch 7/100\n",
      "100/100 [==============================] - ETA: 0s - loss: 3.9417 - masked_acc: 0.3234\n",
      "\n",
      "a man in a red shirt is running in the water\n",
      "a man is jumping the water\n",
      "the person doing a pink and man is squirted and a hat umbrellas silhouetted\n",
      "\n",
      "100/100 [==============================] - 53s 529ms/step - loss: 3.9417 - masked_acc: 0.3234 - val_loss: 3.8518 - val_masked_acc: 0.3239\n",
      "Epoch 8/100\n",
      "100/100 [==============================] - ETA: 0s - loss: 3.8543 - masked_acc: 0.3299\n",
      "\n",
      "a man in a red shirt is standing in the water\n",
      "a man is jumping on a pool\n",
      "a man in green a tennis through the pool\n",
      "\n",
      "100/100 [==============================] - 60s 601ms/step - loss: 3.8543 - masked_acc: 0.3299 - val_loss: 3.7097 - val_masked_acc: 0.3367\n",
      "Epoch 9/100\n",
      "100/100 [==============================] - ETA: 0s - loss: 3.8208 - masked_acc: 0.3337\n",
      "\n",
      "a man in a red shirt is jumping in the water\n",
      "a man is a pool while the water\n",
      "a man are snow in a wave\n",
      "\n",
      "100/100 [==============================] - 48s 479ms/step - loss: 3.8208 - masked_acc: 0.3337 - val_loss: 3.6864 - val_masked_acc: 0.3358\n",
      "Epoch 10/100\n",
      "100/100 [==============================] - ETA: 0s - loss: 3.7413 - masked_acc: 0.3405\n",
      "\n",
      "a man in a red shirt is jumping into the water\n",
      "a person is playing in a pool\n",
      "a man is riding a jumps in a bench in the ocean and black jeans in dog watches\n",
      "\n",
      "100/100 [==============================] - 48s 479ms/step - loss: 3.7413 - masked_acc: 0.3405 - val_loss: 3.5927 - val_masked_acc: 0.3397\n",
      "Epoch 11/100\n",
      "100/100 [==============================] - ETA: 0s - loss: 3.6508 - masked_acc: 0.3442\n",
      "\n",
      "a man in a red shirt is jumping into the water\n",
      "a man is jumping into a pool\n",
      "a player playing in the water through restaurants\n",
      "\n",
      "100/100 [==============================] - 47s 472ms/step - loss: 3.6508 - masked_acc: 0.3442 - val_loss: 3.5550 - val_masked_acc: 0.3479\n",
      "Epoch 12/100\n",
      "100/100 [==============================] - ETA: 0s - loss: 3.6379 - masked_acc: 0.3436\n",
      "\n",
      "a man in a red shirt is jumping in the water\n",
      "a black dog is throwing a water\n",
      "a man is murky the stick in his blue is five arms in it\n",
      "\n",
      "100/100 [==============================] - 66s 662ms/step - loss: 3.6379 - masked_acc: 0.3436 - val_loss: 3.4812 - val_masked_acc: 0.3508\n",
      "Epoch 13/100\n",
      "100/100 [==============================] - ETA: 0s - loss: 3.5830 - masked_acc: 0.3523\n",
      "\n",
      "a man in a red shirt is jumping into the water\n",
      "a person in a blue jacket is running on the water\n",
      "a person in a large rides his blue player at a white house\n",
      "\n",
      "100/100 [==============================] - 77s 772ms/step - loss: 3.5830 - masked_acc: 0.3523 - val_loss: 3.4783 - val_masked_acc: 0.3516\n",
      "Epoch 14/100\n",
      "100/100 [==============================] - ETA: 0s - loss: 3.5361 - masked_acc: 0.3550\n",
      "\n",
      "a man in a red shirt is jumping into the water\n",
      "a man is in a swimming pool in the water\n",
      "a man in a white pool\n",
      "\n",
      "100/100 [==============================] - 52s 526ms/step - loss: 3.5361 - masked_acc: 0.3550 - val_loss: 3.4305 - val_masked_acc: 0.3538\n",
      "Epoch 15/100\n",
      "100/100 [==============================] - ETA: 0s - loss: 3.4980 - masked_acc: 0.3590\n",
      "\n",
      "a man in a red shirt is swimming pool\n",
      "a man in a white shirt is in a water\n",
      "dog is running into the water\n",
      "\n",
      "100/100 [==============================] - 52s 522ms/step - loss: 3.4980 - masked_acc: 0.3590 - val_loss: 3.4123 - val_masked_acc: 0.3549\n",
      "Epoch 16/100\n",
      "100/100 [==============================] - ETA: 0s - loss: 3.4761 - masked_acc: 0.3564\n",
      "\n",
      "a man in a red shirt is swimming pool\n",
      "a man in a red shirt is sitting on a wave\n",
      "a girl is an retrieving a wave\n",
      "\n",
      "100/100 [==============================] - 53s 534ms/step - loss: 3.4761 - masked_acc: 0.3564 - val_loss: 3.3779 - val_masked_acc: 0.3540\n",
      "Epoch 17/100\n",
      "100/100 [==============================] - ETA: 0s - loss: 3.4546 - masked_acc: 0.3618\n",
      "\n",
      "a man in a blue shirt is jumping into the water\n",
      "a man in a blue shirt is jumping into a pool\n",
      "a basket of a small shirt is swimming back\n",
      "\n",
      "100/100 [==============================] - 54s 541ms/step - loss: 3.4546 - masked_acc: 0.3618 - val_loss: 3.3810 - val_masked_acc: 0.3574\n",
      "Epoch 18/100\n",
      "100/100 [==============================] - ETA: 0s - loss: 3.3797 - masked_acc: 0.3688\n",
      "\n",
      "a man in a red shirt is jumping into the water\n",
      "a man in a red shirt is jumping on a wave\n",
      "a jr puppy jogs in the old fall\n",
      "\n",
      "100/100 [==============================] - 53s 532ms/step - loss: 3.3797 - masked_acc: 0.3688 - val_loss: 3.3319 - val_masked_acc: 0.3608\n",
      "Epoch 19/100\n",
      "100/100 [==============================] - ETA: 0s - loss: 3.3385 - masked_acc: 0.3714\n",
      "\n",
      "a man in a red shirt is riding a wave\n",
      "a man in a red shirt is riding a in a yellow pool\n",
      "a man in the black striped a child in his looks at their middle of water\n",
      "\n",
      "100/100 [==============================] - 53s 531ms/step - loss: 3.3385 - masked_acc: 0.3714 - val_loss: 3.3254 - val_masked_acc: 0.3622\n",
      "Epoch 20/100\n",
      "100/100 [==============================] - ETA: 0s - loss: 3.3153 - masked_acc: 0.3706\n",
      "\n",
      "a man in a red shirt is riding a wave\n",
      "a man in a yellow blue pool\n",
      "a long collage in ocean water pool\n",
      "\n",
      "100/100 [==============================] - 53s 529ms/step - loss: 3.3153 - masked_acc: 0.3706 - val_loss: 3.2640 - val_masked_acc: 0.3626\n",
      "Epoch 21/100\n",
      "100/100 [==============================] - ETA: 0s - loss: 3.2959 - masked_acc: 0.3715\n",
      "\n",
      "a man in a red shirt is riding a wave\n",
      "a man in a white shirt and blue is doing a wave\n",
      "a man in the the top church under a wave\n",
      "\n",
      "100/100 [==============================] - 65s 655ms/step - loss: 3.2959 - masked_acc: 0.3715 - val_loss: 3.2357 - val_masked_acc: 0.3669\n",
      "Epoch 22/100\n",
      "100/100 [==============================] - ETA: 0s - loss: 3.2448 - masked_acc: 0.3773\n",
      "\n",
      "a man in a red shirt is swimming pool\n",
      "a man in a red shirt is swimming pool\n",
      "a person locking a light black man resting on the ocean\n",
      "\n",
      "100/100 [==============================] - 56s 566ms/step - loss: 3.2448 - masked_acc: 0.3773 - val_loss: 3.2404 - val_masked_acc: 0.3748\n",
      "Epoch 23/100\n",
      "100/100 [==============================] - ETA: 0s - loss: 3.2567 - masked_acc: 0.3763\n",
      "\n",
      "a man in a red shirt is swimming pool\n",
      "a man with a yellow hat is riding a wave\n",
      "a man with a white and rope and a snowboarder ramp playfully leaping on her top\n",
      "\n",
      "100/100 [==============================] - 56s 556ms/step - loss: 3.2567 - masked_acc: 0.3763 - val_loss: 3.2369 - val_masked_acc: 0.3691\n",
      "Epoch 24/100\n",
      "100/100 [==============================] - ETA: 0s - loss: 3.2140 - masked_acc: 0.3770\n",
      "\n",
      "a man in a red shirt is swimming pool\n",
      "a man and a woman in the water\n",
      "a kayak in white is lays on their waves while holding a brown wave on a tractor\n",
      "\n",
      "100/100 [==============================] - 53s 532ms/step - loss: 3.2140 - masked_acc: 0.3770 - val_loss: 3.1511 - val_masked_acc: 0.3795\n",
      "Epoch 25/100\n",
      "100/100 [==============================] - ETA: 0s - loss: 3.1863 - masked_acc: 0.3791\n",
      "\n",
      "a man in a red shirt is riding a wave\n",
      "a man in a red shirt is walking through a wave\n",
      "the person in an orange dress next to face with a red and blue raft\n",
      "\n",
      "100/100 [==============================] - 54s 538ms/step - loss: 3.1863 - masked_acc: 0.3791 - val_loss: 3.1529 - val_masked_acc: 0.3775\n",
      "Epoch 26/100\n",
      "100/100 [==============================] - ETA: 0s - loss: 3.1459 - masked_acc: 0.3903\n",
      "\n",
      "a man in a red shirt is swimming pool\n",
      "a man in a red shirt is standing in the water\n",
      "a girl in the yellow surfboard in the water\n",
      "\n",
      "100/100 [==============================] - 60s 600ms/step - loss: 3.1459 - masked_acc: 0.3903 - val_loss: 3.2057 - val_masked_acc: 0.3725\n",
      "Epoch 27/100\n",
      "100/100 [==============================] - ETA: 0s - loss: 3.1814 - masked_acc: 0.3776\n",
      "\n",
      "a man in a yellow shirt is riding a wave\n",
      "a man in a red helmet is swimming pool\n",
      "a man reading a body of is down a man in the background\n",
      "\n",
      "100/100 [==============================] - 56s 560ms/step - loss: 3.1814 - masked_acc: 0.3776 - val_loss: 3.1900 - val_masked_acc: 0.3728\n",
      "Epoch 28/100\n",
      "100/100 [==============================] - ETA: 0s - loss: 3.1480 - masked_acc: 0.3856\n",
      "\n",
      "a man in a red shirt is riding a wave\n",
      "a man in a white is jumping into the water\n",
      "the man riding a young man in the ocean\n",
      "\n",
      "100/100 [==============================] - 54s 545ms/step - loss: 3.1480 - masked_acc: 0.3856 - val_loss: 3.1435 - val_masked_acc: 0.3735\n",
      "Epoch 29/100\n",
      "100/100 [==============================] - ETA: 0s - loss: 3.0816 - masked_acc: 0.3921\n",
      "\n",
      "a man in a red shirt is riding a wave\n",
      "a girl is riding a wave\n",
      "a young man in white bathing clothing is pulled on a wave\n",
      "\n",
      "100/100 [==============================] - 54s 541ms/step - loss: 3.0816 - masked_acc: 0.3921 - val_loss: 3.1071 - val_masked_acc: 0.3757\n",
      "Epoch 30/100\n",
      "100/100 [==============================] - ETA: 0s - loss: 3.0822 - masked_acc: 0.3888\n",
      "\n",
      "a man in a red shirt is swimming pool\n",
      "a man in a red shirt is swimming pool\n",
      "a girl with hat standing in the ocean\n",
      "\n",
      "100/100 [==============================] - 54s 539ms/step - loss: 3.0822 - masked_acc: 0.3888 - val_loss: 3.1012 - val_masked_acc: 0.3816\n",
      "Epoch 31/100\n",
      "100/100 [==============================] - ETA: 0s - loss: 3.0460 - masked_acc: 0.3902\n",
      "\n",
      "a man in a red shirt is riding a wave\n",
      "a man in a blue and yellow surfboard riding a wave\n",
      "the two men in the snow as his back has an inflatable headphones\n",
      "\n",
      "100/100 [==============================] - 54s 540ms/step - loss: 3.0460 - masked_acc: 0.3902 - val_loss: 3.0526 - val_masked_acc: 0.3779\n",
      "Epoch 32/100\n",
      "100/100 [==============================] - ETA: 0s - loss: 3.0300 - masked_acc: 0.3970\n",
      "\n",
      "a man in a red shirt is surfing\n",
      "a man in a red shirt is riding a wave\n",
      "a surfer riding a surfer is wading in the surf\n",
      "\n",
      "100/100 [==============================] - 54s 544ms/step - loss: 3.0300 - masked_acc: 0.3970 - val_loss: 3.0881 - val_masked_acc: 0.3820\n",
      "Epoch 33/100\n",
      "100/100 [==============================] - ETA: 0s - loss: 3.0138 - masked_acc: 0.3939\n",
      "\n",
      "a surfer is riding a wave\n",
      "a surfer is surfing in the ocean\n",
      "a surfer in an orange cap gear races down\n",
      "\n",
      "100/100 [==============================] - 54s 537ms/step - loss: 3.0138 - masked_acc: 0.3939 - val_loss: 3.1079 - val_masked_acc: 0.3754\n",
      "Epoch 34/100\n",
      "100/100 [==============================] - ETA: 0s - loss: 2.9856 - masked_acc: 0.3989\n",
      "\n",
      "a man in a red shirt is surfing a wave\n",
      "a yellow bird is riding a wave\n",
      "a man in a swimming wave\n",
      "\n",
      "100/100 [==============================] - 54s 546ms/step - loss: 2.9856 - masked_acc: 0.3989 - val_loss: 3.0674 - val_masked_acc: 0.3828\n",
      "Epoch 35/100\n",
      "100/100 [==============================] - ETA: 0s - loss: 3.0140 - masked_acc: 0.3916\n",
      "\n",
      "a man in a red shirt is riding a wave\n",
      "a man in a yellow jacket is surfing a wave\n",
      "the man stands in midair around in the rapids\n",
      "\n",
      "100/100 [==============================] - 54s 537ms/step - loss: 3.0140 - masked_acc: 0.3916 - val_loss: 3.0486 - val_masked_acc: 0.3805\n",
      "Epoch 36/100\n",
      "100/100 [==============================] - ETA: 0s - loss: 2.9806 - masked_acc: 0.3987\n",
      "\n",
      "a man in a red shirt is surfing on a wave\n",
      "a man in a swimming wave\n",
      "the person wearing a white shirt is parked on a sunset in the ocean\n",
      "\n",
      "100/100 [==============================] - 54s 539ms/step - loss: 2.9806 - masked_acc: 0.3987 - val_loss: 2.9982 - val_masked_acc: 0.3792\n",
      "Epoch 37/100\n",
      "100/100 [==============================] - ETA: 0s - loss: 2.9565 - masked_acc: 0.3999\n",
      "\n",
      "a man in a red shirt is surfing\n",
      "a man with a wave in his mouth\n",
      "a surfer in the surfer is riding a surfboard\n",
      "\n",
      "100/100 [==============================] - 54s 541ms/step - loss: 2.9565 - masked_acc: 0.3999 - val_loss: 3.0243 - val_masked_acc: 0.3813\n",
      "Epoch 38/100\n",
      "100/100 [==============================] - ETA: 0s - loss: 2.9263 - masked_acc: 0.4053\n",
      "\n",
      "a man in a red shirt is surfing on a wave\n",
      "a man in a red kayak is surfing in the water\n",
      "a surfer in a red jacket is pitches the wave\n",
      "\n",
      "100/100 [==============================] - 56s 566ms/step - loss: 2.9263 - masked_acc: 0.4053 - val_loss: 3.0055 - val_masked_acc: 0.3952\n",
      "Epoch 39/100\n",
      "100/100 [==============================] - ETA: 0s - loss: 2.8545 - masked_acc: 0.4123\n",
      "\n",
      "a man in a red shirt is surfing\n",
      "a man in a red shirt and yellow surfboard\n",
      "the man is in the snowboard with his beige helmet is has toy\n",
      "\n",
      "100/100 [==============================] - 57s 570ms/step - loss: 2.8545 - masked_acc: 0.4123 - val_loss: 2.9954 - val_masked_acc: 0.3888\n",
      "Epoch 40/100\n",
      "100/100 [==============================] - ETA: 0s - loss: 2.9002 - masked_acc: 0.4065\n",
      "\n",
      "a man in a red shirt is surfing\n",
      "a surfer is surfing on the water\n",
      "the surfer is being a surfer spot is surfing\n",
      "\n",
      "100/100 [==============================] - 54s 544ms/step - loss: 2.9002 - masked_acc: 0.4065 - val_loss: 2.9791 - val_masked_acc: 0.3874\n",
      "Epoch 41/100\n",
      "100/100 [==============================] - ETA: 0s - loss: 2.8911 - masked_acc: 0.4048\n",
      "\n",
      "a man in a red shirt is surfing on a wave\n",
      "a man is surfing a wave in the water\n",
      "a man in a trunks enjoys the surfboard is surfing\n",
      "\n",
      "100/100 [==============================] - 54s 546ms/step - loss: 2.8911 - masked_acc: 0.4048 - val_loss: 3.0169 - val_masked_acc: 0.3858\n",
      "Epoch 42/100\n",
      "100/100 [==============================] - ETA: 0s - loss: 2.8796 - masked_acc: 0.4054\n",
      "\n",
      "a man in a red shirt and white surfboard\n",
      "a man in a white shirt is riding a wave\n",
      "a surfer in white gear is sitting on a wave\n",
      "\n",
      "100/100 [==============================] - 55s 556ms/step - loss: 2.8796 - masked_acc: 0.4054 - val_loss: 2.9552 - val_masked_acc: 0.3895\n",
      "Epoch 43/100\n",
      "100/100 [==============================] - ETA: 0s - loss: 2.8467 - masked_acc: 0.4115\n",
      "\n",
      "a man in a wetsuit is surfing on a wave\n",
      "a man in a yellow shirt is surfing\n",
      "a man is surfing on the waves into an orange bandanna is swimming\n",
      "\n",
      "100/100 [==============================] - 57s 567ms/step - loss: 2.8467 - masked_acc: 0.4115 - val_loss: 2.9332 - val_masked_acc: 0.3834\n",
      "Epoch 44/100\n",
      "100/100 [==============================] - ETA: 0s - loss: 2.8726 - masked_acc: 0.4067\n",
      "\n",
      "a man in a red wetsuit is surfing on a wave\n",
      "a surfer in a wetsuit is surfing in the water\n",
      "a wave spins in a water\n",
      "\n",
      "100/100 [==============================] - 66s 664ms/step - loss: 2.8726 - masked_acc: 0.4067 - val_loss: 2.9689 - val_masked_acc: 0.3966\n",
      "Epoch 45/100\n",
      "100/100 [==============================] - ETA: 0s - loss: 2.8565 - masked_acc: 0.4070\n",
      "\n",
      "a man in a red shirt is surfing on a wave\n",
      "a man is surfing a wave\n",
      "a man is riding a wave\n",
      "\n",
      "100/100 [==============================] - 55s 549ms/step - loss: 2.8565 - masked_acc: 0.4070 - val_loss: 2.9643 - val_masked_acc: 0.3925\n",
      "Epoch 46/100\n",
      "100/100 [==============================] - ETA: 0s - loss: 2.8397 - masked_acc: 0.4112\n",
      "\n",
      "a man in a yellow kayak is surfing\n",
      "man in a yellow surfboard riding a surfboard\n",
      "a man is wearing a and black wetsuit on a surfboard\n",
      "\n",
      "100/100 [==============================] - 55s 547ms/step - loss: 2.8397 - masked_acc: 0.4112 - val_loss: 2.9063 - val_masked_acc: 0.3926\n",
      "Epoch 47/100\n",
      "100/100 [==============================] - ETA: 0s - loss: 2.8136 - masked_acc: 0.4137\n",
      "\n",
      "a man in a red shirt is surfing\n",
      "a man is riding a wave\n",
      "a man out a the wave is surfing and carrying a wave\n",
      "\n",
      "100/100 [==============================] - 54s 537ms/step - loss: 2.8136 - masked_acc: 0.4137 - val_loss: 2.9328 - val_masked_acc: 0.3931\n",
      "Epoch 48/100\n",
      "100/100 [==============================] - ETA: 0s - loss: 2.7379 - masked_acc: 0.4237\n",
      "\n",
      "a man in a yellow shirt is surfing\n",
      "a man in a yellow wave\n",
      "a surfer is running in a wave\n",
      "\n",
      "100/100 [==============================] - 53s 532ms/step - loss: 2.7379 - masked_acc: 0.4237 - val_loss: 2.9094 - val_masked_acc: 0.3907\n",
      "Epoch 49/100\n",
      "100/100 [==============================] - ETA: 0s - loss: 2.7829 - masked_acc: 0.4176\n",
      "\n",
      "a man in a red shirt is surfing on a wave\n",
      "a man in a life jacket is surfing on a wave\n",
      "a man is surfing on a wave\n",
      "\n",
      "100/100 [==============================] - 54s 545ms/step - loss: 2.7829 - masked_acc: 0.4176 - val_loss: 2.9235 - val_masked_acc: 0.3918\n",
      "Epoch 50/100\n",
      "100/100 [==============================] - ETA: 0s - loss: 2.7740 - masked_acc: 0.4134\n",
      "\n",
      "a man in a red shirt is surfing on a wave\n",
      "a young boy is surfing a wave\n",
      "an wave during a white goggles\n",
      "\n",
      "100/100 [==============================] - 55s 548ms/step - loss: 2.7740 - masked_acc: 0.4134 - val_loss: 2.9474 - val_masked_acc: 0.3921\n",
      "Epoch 51/100\n",
      "100/100 [==============================] - ETA: 0s - loss: 2.7055 - masked_acc: 0.4233\n",
      "\n",
      "a man in a red shirt is surfing on a wave\n",
      "a man in a white surfboard with a yellow surfboard\n",
      "a man wearing a black shirt surfing a wave on rough surfboard\n",
      "\n",
      "100/100 [==============================] - 55s 556ms/step - loss: 2.7055 - masked_acc: 0.4233 - val_loss: 2.8799 - val_masked_acc: 0.3981\n",
      "Epoch 52/100\n",
      "100/100 [==============================] - ETA: 0s - loss: 2.7344 - masked_acc: 0.4210\n",
      "\n",
      "a man in a red shirt is surfing on a wave\n",
      "the man is surfing a wave\n",
      "a person riding out a wave\n",
      "\n",
      "100/100 [==============================] - 53s 531ms/step - loss: 2.7344 - masked_acc: 0.4210 - val_loss: 2.9182 - val_masked_acc: 0.3972\n",
      "Epoch 53/100\n",
      "100/100 [==============================] - ETA: 0s - loss: 2.7234 - masked_acc: 0.4247\n",
      "\n",
      "a man in a red kayak is surfing\n",
      "a man in a red shirt is swimming in a wave\n",
      "a man stare into the water and are being pulled by his board\n",
      "\n",
      "100/100 [==============================] - 54s 538ms/step - loss: 2.7234 - masked_acc: 0.4247 - val_loss: 2.8888 - val_masked_acc: 0.3943\n",
      "Epoch 54/100\n",
      "100/100 [==============================] - ETA: 0s - loss: 2.7133 - masked_acc: 0.4194\n",
      "\n",
      "a man in a red wetsuit is surfing a wave\n",
      "a surfer is surfing a wave\n",
      "a young person sits in a pool while wearing a gold wave\n",
      "\n",
      "100/100 [==============================] - 56s 558ms/step - loss: 2.7133 - masked_acc: 0.4194 - val_loss: 2.9397 - val_masked_acc: 0.3897\n",
      "Epoch 55/100\n",
      "100/100 [==============================] - ETA: 0s - loss: 2.7420 - masked_acc: 0.4222\n",
      "\n",
      "a man in a red wetsuit is surfing in the ocean\n",
      "a man in a red is surfing on a wave\n",
      "two boys are racing through headfirst overlooking a wave\n",
      "\n",
      "100/100 [==============================] - 56s 565ms/step - loss: 2.7420 - masked_acc: 0.4222 - val_loss: 2.8832 - val_masked_acc: 0.3934\n",
      "Epoch 56/100\n",
      "100/100 [==============================] - ETA: 0s - loss: 2.6901 - masked_acc: 0.4244\n",
      "\n",
      "a man in a red wetsuit is surfing\n",
      "a surfer in a red shirt and surfing\n",
      "a surfer\n",
      "\n",
      "100/100 [==============================] - 57s 574ms/step - loss: 2.6901 - masked_acc: 0.4244 - val_loss: 2.8717 - val_masked_acc: 0.4021\n",
      "Epoch 57/100\n",
      "100/100 [==============================] - ETA: 0s - loss: 2.6562 - masked_acc: 0.4271\n",
      "\n",
      "a man in a red wetsuit is surfing\n",
      "a man in a red surfboard riding a surfboard\n",
      "a couple in glasses is surfing on the ocean\n",
      "\n",
      "100/100 [==============================] - 54s 539ms/step - loss: 2.6562 - masked_acc: 0.4271 - val_loss: 2.9008 - val_masked_acc: 0.3940\n",
      "Epoch 58/100\n",
      "100/100 [==============================] - ETA: 0s - loss: 2.5858 - masked_acc: 0.4393\n",
      "\n",
      "a man in a red shirt is surfing\n",
      "a man in a red surfboard riding a surfboard\n",
      "the man is two descent wave in the basketball\n",
      "\n",
      "100/100 [==============================] - 53s 534ms/step - loss: 2.5858 - masked_acc: 0.4393 - val_loss: 2.8222 - val_masked_acc: 0.4043\n",
      "Epoch 59/100\n",
      "100/100 [==============================] - ETA: 0s - loss: 2.6306 - masked_acc: 0.4318\n",
      "\n",
      "a man in a red shirt is surfing\n",
      "a man is playing in a swimming pool\n",
      "a person wearing a person riding on an orange wave\n",
      "\n",
      "100/100 [==============================] - 53s 533ms/step - loss: 2.6306 - masked_acc: 0.4318 - val_loss: 2.8566 - val_masked_acc: 0.4004\n",
      "Epoch 60/100\n",
      "100/100 [==============================] - ETA: 0s - loss: 2.6403 - masked_acc: 0.4312\n",
      "\n",
      "a man in a red shirt is surfing in the ocean\n",
      "a man in a red shirt is surfing on a surfboard\n",
      "man surfboard high in the air\n",
      "\n",
      "100/100 [==============================] - 54s 546ms/step - loss: 2.6403 - masked_acc: 0.4312 - val_loss: 2.9017 - val_masked_acc: 0.3980\n",
      "Epoch 61/100\n",
      "100/100 [==============================] - ETA: 0s - loss: 2.6366 - masked_acc: 0.4291\n",
      "\n",
      "a man in a red shirt is surfing on a wave\n",
      "a person in a surfer on a wave\n",
      "man in a wetsuit surfing on a white surfs\n",
      "\n",
      "100/100 [==============================] - 53s 527ms/step - loss: 2.6366 - masked_acc: 0.4291 - val_loss: 2.9079 - val_masked_acc: 0.3966\n",
      "Epoch 62/100\n",
      "100/100 [==============================] - ETA: 0s - loss: 2.6087 - masked_acc: 0.4310\n",
      "\n",
      "a man in a red shirt is surfing\n",
      "a man in a wetsuit in the ocean\n",
      "a person wearing craft flip in a green marching\n",
      "\n",
      "100/100 [==============================] - 53s 528ms/step - loss: 2.6087 - masked_acc: 0.4310 - val_loss: 2.8705 - val_masked_acc: 0.3988\n",
      "Epoch 63/100\n",
      "100/100 [==============================] - ETA: 0s - loss: 2.6404 - masked_acc: 0.4286\n",
      "\n",
      "a man in a red shirt is surfing on a wave\n",
      "a man in a red wetsuit is surfing in the ocean\n",
      "a man in a white surfs on the stomach\n",
      "\n",
      "100/100 [==============================] - 54s 542ms/step - loss: 2.6404 - masked_acc: 0.4286 - val_loss: 2.8087 - val_masked_acc: 0.3985\n",
      "Epoch 64/100\n",
      "100/100 [==============================] - ETA: 0s - loss: 2.6253 - masked_acc: 0.4281\n",
      "\n",
      "a man in a wetsuit is surfing\n",
      "a surfer is surfing on a wave\n",
      "a surfer on a dog flip splashing hand\n",
      "\n",
      "100/100 [==============================] - 53s 527ms/step - loss: 2.6253 - masked_acc: 0.4281 - val_loss: 2.8571 - val_masked_acc: 0.3930\n",
      "Epoch 65/100\n",
      "100/100 [==============================] - ETA: 0s - loss: 2.6202 - masked_acc: 0.4290\n",
      "\n",
      "a man in a red wetsuit is surfing\n",
      "a man in a wetsuit surfs\n",
      "a man in a big wave\n",
      "\n",
      "100/100 [==============================] - 53s 531ms/step - loss: 2.6202 - masked_acc: 0.4290 - val_loss: 2.8360 - val_masked_acc: 0.4106\n",
      "Epoch 66/100\n",
      "100/100 [==============================] - ETA: 0s - loss: 2.6313 - masked_acc: 0.4268\n",
      "\n",
      "a man in a red wetsuit is surfing\n",
      "a surfer rides a wave\n",
      "a man surfing a wave\n",
      "\n",
      "100/100 [==============================] - 53s 528ms/step - loss: 2.6313 - masked_acc: 0.4268 - val_loss: 2.7719 - val_masked_acc: 0.4081\n",
      "Epoch 67/100\n",
      "100/100 [==============================] - ETA: 0s - loss: 2.5340 - masked_acc: 0.4431\n",
      "\n",
      "a man in a red shirt is surfing\n",
      "a man in a red shirt is surfing\n",
      "a boy swimming in a hat giving a swimmer in the ocean\n",
      "\n",
      "100/100 [==============================] - 56s 564ms/step - loss: 2.5340 - masked_acc: 0.4431 - val_loss: 2.8541 - val_masked_acc: 0.3955\n",
      "Epoch 68/100\n",
      "100/100 [==============================] - ETA: 0s - loss: 2.5194 - masked_acc: 0.4416\n",
      "\n",
      "a man in a red shirt is surfing\n",
      "a man with a red shirt is surfing on a wave\n",
      "a surfer rides a board and wave on a wave\n",
      "\n",
      "100/100 [==============================] - 53s 530ms/step - loss: 2.5194 - masked_acc: 0.4416 - val_loss: 2.8175 - val_masked_acc: 0.4048\n",
      "Epoch 69/100\n",
      "100/100 [==============================] - ETA: 0s - loss: 2.5206 - masked_acc: 0.4415\n",
      "\n",
      "a man in a red shirt is surfing on a wave\n",
      "a man in a red shirt is surfing on a wave\n",
      "a cheerleader in a swimming pool\n",
      "\n",
      "100/100 [==============================] - 53s 535ms/step - loss: 2.5206 - masked_acc: 0.4415 - val_loss: 2.9012 - val_masked_acc: 0.4030\n",
      "Epoch 70/100\n",
      "100/100 [==============================] - ETA: 0s - loss: 2.5377 - masked_acc: 0.4396\n",
      "\n",
      "a man in a red surfboard is surfing\n",
      "a man in a red and white surfboard in the ocean\n",
      "a man surfing a wave\n",
      "\n",
      "100/100 [==============================] - 53s 528ms/step - loss: 2.5377 - masked_acc: 0.4396 - val_loss: 2.8328 - val_masked_acc: 0.4005\n",
      "Epoch 71/100\n",
      "100/100 [==============================] - ETA: 0s - loss: 2.5161 - masked_acc: 0.4437\n",
      "\n",
      "a man in a red wetsuit is surfing\n",
      "a man in a red wetsuit surfs on a wave\n",
      "a man in a red yellow wetsuit rides a wave\n",
      "\n",
      "100/100 [==============================] - 53s 534ms/step - loss: 2.5161 - masked_acc: 0.4437 - val_loss: 2.8054 - val_masked_acc: 0.4032\n"
     ]
    }
   ],
   "source": [
    "history = model.fit(\n",
    "    train_ds.repeat(),\n",
    "    steps_per_epoch=100,\n",
    "    validation_data=test_ds.repeat(),\n",
    "    validation_steps=20,\n",
    "    epochs=100,\n",
    "    callbacks=callbacks)"
   ]
  },
  {
   "cell_type": "code",
   "execution_count": 49,
   "metadata": {},
   "outputs": [
    {
     "name": "stdout",
     "output_type": "stream",
     "text": [
      "WARNING:tensorflow:Skipping full serialization of Keras layer <keras.layers.preprocessing.string_lookup.StringLookup object at 0x000001774AEA8B10>, because it is not built.\n",
      "WARNING:tensorflow:Model's `__init__()` arguments contain non-serializable objects. Please implement a `get_config()` method in the subclassed Model for proper saving and loading. Defaulting to empty config.\n",
      "WARNING:tensorflow:Model's `__init__()` arguments contain non-serializable objects. Please implement a `get_config()` method in the subclassed Model for proper saving and loading. Defaulting to empty config.\n"
     ]
    },
    {
     "name": "stderr",
     "output_type": "stream",
     "text": [
      "WARNING:absl:Found untraced functions such as _update_step_xla, _jit_compiled_convolution_op, _jit_compiled_convolution_op, _jit_compiled_convolution_op, _jit_compiled_convolution_op while saving (showing 5 of 149). These functions will not be directly callable after loading.\n"
     ]
    },
    {
     "name": "stdout",
     "output_type": "stream",
     "text": [
      "INFO:tensorflow:Assets written to: C:/Users/rspra/Desktop/Image_Captioning_Generator/model_best.tf\\assets\n"
     ]
    },
    {
     "name": "stderr",
     "output_type": "stream",
     "text": [
      "INFO:tensorflow:Assets written to: C:/Users/rspra/Desktop/Image_Captioning_Generator/model_best.tf\\assets\n"
     ]
    },
    {
     "name": "stdout",
     "output_type": "stream",
     "text": [
      "WARNING:tensorflow:Model's `__init__()` arguments contain non-serializable objects. Please implement a `get_config()` method in the subclassed Model for proper saving and loading. Defaulting to empty config.\n"
     ]
    },
    {
     "name": "stderr",
     "output_type": "stream",
     "text": [
      "WARNING:tensorflow:Model's `__init__()` arguments contain non-serializable objects. Please implement a `get_config()` method in the subclassed Model for proper saving and loading. Defaulting to empty config.\n"
     ]
    },
    {
     "name": "stdout",
     "output_type": "stream",
     "text": [
      "WARNING:tensorflow:Model's `__init__()` arguments contain non-serializable objects. Please implement a `get_config()` method in the subclassed Model for proper saving and loading. Defaulting to empty config.\n"
     ]
    },
    {
     "name": "stderr",
     "output_type": "stream",
     "text": [
      "WARNING:tensorflow:Model's `__init__()` arguments contain non-serializable objects. Please implement a `get_config()` method in the subclassed Model for proper saving and loading. Defaulting to empty config.\n"
     ]
    }
   ],
   "source": [
    "model.save(\"C:/Users/rspra/Desktop/Image_Captioning_Generator/model_best.tf\")"
   ]
  },
  {
   "cell_type": "code",
   "execution_count": 50,
   "metadata": {},
   "outputs": [
    {
     "data": {
      "text/plain": [
       "<matplotlib.legend.Legend at 0x1770378ad90>"
      ]
     },
     "execution_count": 50,
     "metadata": {},
     "output_type": "execute_result"
    },
    {
     "data": {
      "image/png": "[encoded data removed]",
      "text/plain": [
       "<Figure size 640x480 with 1 Axes>"
      ]
     },
     "metadata": {},
     "output_type": "display_data"
    }
   ],
   "source": [
    "plt.plot(history.history['loss'], label='loss')\n",
    "plt.plot(history.history['val_loss'], label='val_loss')\n",
    "plt.ylim([0, max(plt.ylim())])\n",
    "plt.xlabel('Epoch #')\n",
    "plt.ylabel('Token')\n",
    "plt.legend()"
   ]
  },
  {
   "cell_type": "code",
   "execution_count": 51,
   "metadata": {},
   "outputs": [
    {
     "data": {
      "text/plain": [
       "'a man in a red wetsuit is surfing'"
      ]
     },
     "execution_count": 51,
     "metadata": {},
     "output_type": "execute_result"
    }
   ],
   "source": [
    "result = model.simple_gen(image, temperature=0.0)\n",
    "result"
   ]
  },
  {
   "cell_type": "code",
   "execution_count": 54,
   "metadata": {},
   "outputs": [
    {
     "name": "stdout",
     "output_type": "stream",
     "text": [
      "C:/Users/rspra/Desktop/Image_Captioning_Generator/flickr8k/Flicker8k_Dataset/27782020_4dab210360.jpg\n",
      "C:/Users/rspra/Desktop/Image_Captioning_Generator/Flickr8k_Dataset/Flicker8k_Dataset/12830823_87d2654e31.jpg\n"
     ]
    }
   ],
   "source": [
    "from tkinter import *\n",
    "from PIL import ImageTk,Image\n",
    "from tkinter import filedialog\n",
    "import os\n",
    "\n",
    "def choose_file():\n",
    "    filename = filedialog.askopenfilename(initialdir=os.getcwd(), title=\"Select image file\", filetypes=((\"JPG File\", \"*.jpg\"), (\"PNG file\", \"*.png\"), (\"All files\", \"*.\")))\n",
    "    entry1.delete(0, 'end')\n",
    "    entry1.insert(0,str(filename))\n",
    "    img = Image.open(filename)\n",
    "    img.thumbnail((550,500))\n",
    "    img = ImageTk.PhotoImage(img)\n",
    "    lbl.configure(image=img)\n",
    "    lbl.image = img\n",
    "    \n",
    "\n",
    "root = Tk()\n",
    "root.title(\"Image Caption Generator Using Deep Learning\")\n",
    "root.geometry(\"650x650\")\n",
    "\n",
    "mylabel = Label(root, text = \" \", font=\"24\")\n",
    "\n",
    "def generateCaption(mylabel):\n",
    "    #filePath = entry1.get()\n",
    "    #fileNameArr = filePath.split(\"/\")\n",
    "    #file_name = fileNameArr[len(fileNameArr)-1]\n",
    "    file_name = entry1.get()\n",
    "    print(file_name)\n",
    "    image = load_image(file_name)\n",
    "    caption = model.simple_gen(image, temperature=0.0)\n",
    "\n",
    "    mylabel = mylabel.config(text=caption)\n",
    "    #mylabel.update()\n",
    "    \n",
    "\n",
    "frm = Frame(root)\n",
    "frm.pack(side=BOTTOM, padx=10, pady=10)\n",
    "\n",
    "\n",
    "lbl = Label(root)\n",
    "lbl.pack()\n",
    "\n",
    "entry1 = Entry(frm,width =90)\n",
    "\n",
    "button1 = Button(frm, text = \"Select Image\",command = choose_file, width=20)\n",
    "\n",
    "button2 = Button(frm, text=\"Generate Caption\", command= lambda : generateCaption(mylabel), width=20)\n",
    "\n",
    "\n",
    "entry1.pack()\n",
    "mylabel.pack()\n",
    "button1.pack(pady=5)\n",
    "button2.pack(padx=10, pady=10)\n",
    "\n",
    "\n",
    "root.mainloop()"
   ]
  },
  {
   "cell_type": "code",
   "execution_count": null,
   "metadata": {},
   "outputs": [],
   "source": []
  }
 ],
 "metadata": {
  "kernelspec": {
   "display_name": "Python 3",
   "language": "python",
   "name": "python3"
  },
  "language_info": {
   "codemirror_mode": {
    "name": "ipython",
    "version": 3
   },
   "file_extension": ".py",
   "mimetype": "text/x-python",
   "name": "python",
   "nbconvert_exporter": "python",
   "pygments_lexer": "ipython3",
   "version": "3.11.3"
  },
  "orig_nbformat": 4
 },
 "nbformat": 4,
 "nbformat_minor": 2
}
